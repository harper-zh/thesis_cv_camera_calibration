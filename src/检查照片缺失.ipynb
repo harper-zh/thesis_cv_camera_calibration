{
 "cells": [
  {
   "cell_type": "code",
   "execution_count": 3,
   "metadata": {},
   "outputs": [
    {
     "name": "stdout",
     "output_type": "stream",
     "text": [
      "Time gap between path point 51 and 52 is > 12s:\n",
      "    Last photo in point 51: 50_4.JPG - 2023-12-27 07:34:37\n",
      "    First photo in point 52: 51_0.JPG - 2023-12-27 07:34:50\n",
      "Time gap between path point 125 and 126 is > 12s:\n",
      "    Last photo in point 125: 124_4.JPG - 2023-12-27 07:43:33\n",
      "    First photo in point 126: 125_0.JPG - 2023-12-27 07:43:46\n",
      "Time gap between path point 623 and 624 is > 12s:\n",
      "    Last photo in point 623: 622_4.JPG - 2023-12-27 08:42:43\n",
      "    First photo in point 624: 623_0.JPG - 2023-12-27 08:42:56\n",
      "Time gap between path point 720 and 721 is > 12s:\n",
      "    Last photo in point 720: 719_4.JPG - 2023-12-27 08:54:17\n",
      "    First photo in point 721: 720_0.JPG - 2023-12-27 08:54:30\n",
      "Time gap between path point 1411 and 1412 is > 12s:\n",
      "    Last photo in point 1411: 1410_4.JPG - 2023-12-27 10:16:32\n",
      "    First photo in point 1412: 1411_0.JPG - 2023-12-27 10:16:45\n",
      "Time gap between path point 2199 and 2200 is > 12s:\n",
      "    Last photo in point 2199: 2198_4.JPG - 2023-12-27 11:50:14\n",
      "    First photo in point 2200: 2199_0.JPG - 2023-12-27 11:50:27\n",
      "Time gap between path point 2495 and 2496 is > 12s:\n",
      "    Last photo in point 2495: 2494_4.JPG - 2023-12-27 12:25:27\n",
      "    First photo in point 2496: 2495_0.JPG - 2023-12-27 12:25:41\n"
     ]
    }
   ],
   "source": [
    "import os\n",
    "from datetime import datetime\n",
    "\n",
    "# 照片文件夹路径\n",
    "photo_folder = 'D:\\\\labAAA\\\\printingLight\\\\process\\\\camera_set\\\\coding\\\\src\\\\images'\n",
    "expected_photos_per_point = 5\n",
    "max_time_difference = 12  # 设置最大允许时间差为8秒\n",
    "\n",
    "# 获取照片文件列表并按时间排序\n",
    "photos = []\n",
    "for filename in os.listdir(photo_folder):\n",
    "    if filename.endswith('.JPG'):\n",
    "        filepath = os.path.join(photo_folder, filename)\n",
    "        photo_time = datetime.fromtimestamp(os.path.getmtime(filepath))\n",
    "        photos.append((filename, photo_time))\n",
    "photos.sort(key=lambda x: x[1])  # 按时间排序\n",
    "\n",
    "# 分组检查组间时间差\n",
    "current_point = 1  # 初始路径点编号\n",
    "\n",
    "for i in range(0, len(photos) - expected_photos_per_point, expected_photos_per_point):\n",
    "    # 当前组和下一组\n",
    "    current_group = photos[i:i + expected_photos_per_point]\n",
    "    next_group = photos[i + expected_photos_per_point:i + 2 * expected_photos_per_point]\n",
    "    \n",
    "    # 确保当前组和下一组都有5张照片\n",
    "    if len(current_group) == expected_photos_per_point and len(next_group) == expected_photos_per_point:\n",
    "        # 获取当前组的最后一张照片和下一组的第一张照片的时间\n",
    "        current_group_end_time = current_group[-1][1]\n",
    "        next_group_start_time = next_group[0][1]\n",
    "        \n",
    "        # 计算两组之间的时间差\n",
    "        time_diff = (next_group_start_time - current_group_end_time).total_seconds()\n",
    "        \n",
    "        # 检查时间差是否超过最大允许时间\n",
    "        if time_diff > max_time_difference:\n",
    "            print(f\"Time gap between path point {current_point} and {current_point + 1} is > {max_time_difference}s:\")\n",
    "            print(f\"    Last photo in point {current_point}: {current_group[-1][0]} - {current_group_end_time}\")\n",
    "            print(f\"    First photo in point {current_point + 1}: {next_group[0][0]} - {next_group_start_time}\")\n",
    "    \n",
    "    current_point += 1  # 递增到下一个路径点\n",
    "\n"
   ]
  },
  {
   "cell_type": "code",
   "execution_count": 10,
   "metadata": {},
   "outputs": [
    {
     "name": "stdout",
     "output_type": "stream",
     "text": [
      "Time gap between path point 322 and 323 is > 9s:\n",
      "    Last photo in point 322: IMG_1610.JPG - 2023-08-21 09:47:16\n",
      "    First photo in point 323: IMG_1611.JPG - 2023-08-21 09:47:29\n",
      "Time gap between path point 439 and 440 is > 9s:\n",
      "    Last photo in point 439: IMG_2195.JPG - 2023-08-21 09:59:05\n",
      "    First photo in point 440: IMG_2196.JPG - 2023-08-21 09:59:16\n",
      "Time gap between path point 1082 and 1083 is > 9s:\n",
      "    Last photo in point 1082: IMG_5410.JPG - 2023-08-21 11:03:37\n",
      "    First photo in point 1083: IMG_5411.JPG - 2023-08-21 11:03:48\n"
     ]
    }
   ],
   "source": [
    "import os\n",
    "from datetime import datetime\n",
    "\n",
    "# 照片文件夹路径\n",
    "photo_folder = 'G:\\\\DCIM\\\\103CANON'\n",
    "expected_photos_per_point = 5\n",
    "max_time_difference = 9  # 设置最大允许时间差为8秒\n",
    "\n",
    "# 获取照片文件列表并按时间排序\n",
    "photos = []\n",
    "for filename in os.listdir(photo_folder):\n",
    "    if filename.endswith('.JPG'):\n",
    "        filepath = os.path.join(photo_folder, filename)\n",
    "        photo_time = datetime.fromtimestamp(os.path.getmtime(filepath))\n",
    "        photos.append((filename, photo_time))\n",
    "photos.sort(key=lambda x: x[1])  # 按时间排序\n",
    "\n",
    "# 分组检查组间时间差\n",
    "current_point = 1  # 初始路径点编号\n",
    "\n",
    "for i in range(0, len(photos) - expected_photos_per_point, expected_photos_per_point):\n",
    "    # 当前组和下一组\n",
    "    current_group = photos[i:i + expected_photos_per_point]\n",
    "    next_group = photos[i + expected_photos_per_point:i + 2 * expected_photos_per_point]\n",
    "    \n",
    "    # 确保当前组和下一组都有5张照片\n",
    "    if len(current_group) == expected_photos_per_point and len(next_group) == expected_photos_per_point:\n",
    "        # 获取当前组的最后一张照片和下一组的第一张照片的时间\n",
    "        current_group_end_time = current_group[-1][1]\n",
    "        next_group_start_time = next_group[0][1]\n",
    "        \n",
    "        # 计算两组之间的时间差\n",
    "        time_diff = (next_group_start_time - current_group_end_time).total_seconds()\n",
    "        \n",
    "        # 检查时间差是否超过最大允许时间\n",
    "        if time_diff > max_time_difference:\n",
    "            print(f\"Time gap between path point {current_point} and {current_point + 1} is > {max_time_difference}s:\")\n",
    "            print(f\"    Last photo in point {current_point}: {current_group[-1][0]} - {current_group_end_time}\")\n",
    "            print(f\"    First photo in point {current_point + 1}: {next_group[0][0]} - {next_group_start_time}\")\n",
    "    \n",
    "    current_point += 1  # 递增到下一个路径点\n"
   ]
  }
 ],
 "metadata": {
  "kernelspec": {
   "display_name": "base",
   "language": "python",
   "name": "python3"
  },
  "language_info": {
   "codemirror_mode": {
    "name": "ipython",
    "version": 3
   },
   "file_extension": ".py",
   "mimetype": "text/x-python",
   "name": "python",
   "nbconvert_exporter": "python",
   "pygments_lexer": "ipython3",
   "version": "3.9.19"
  }
 },
 "nbformat": 4,
 "nbformat_minor": 2
}
